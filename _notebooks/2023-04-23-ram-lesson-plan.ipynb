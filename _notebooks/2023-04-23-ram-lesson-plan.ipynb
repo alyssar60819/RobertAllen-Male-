{
 "cells": [
  {
   "attachments": {},
   "cell_type": "markdown",
   "metadata": {},
   "source": [
    "#  Binary Math Lesson Plan\n",
    "> Applying binary math and operationsto real-world progamming\n",
    "- toc: true\n",
    "- categories: [lesson]"
   ]
  },
  {
   "attachments": {},
   "cell_type": "markdown",
   "metadata": {},
   "source": [
    "## Vocab and notes:\n",
    "- Logic gates (AND, OR, NOR, NAND)\n",
    "- Binary conversion\n",
    "- Bitwise operations\n",
    "- Binary search\n",
    "- Huffman coding\n",
    "\n",
    "## In-class practice hacks (2-3)\n",
    "- Logic gate program\n",
    "- String to binary conversion program\n",
    "\n",
    "## Homework hacks (1-2)\n",
    "- Binary calculator conversion\n",
    "- Huffman coding program"
   ]
  }
 ],
 "metadata": {
  "language_info": {
   "name": "python"
  },
  "orig_nbformat": 4
 },
 "nbformat": 4,
 "nbformat_minor": 2
}
