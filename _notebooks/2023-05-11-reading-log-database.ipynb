{
 "cells": [
  {
   "attachments": {},
   "cell_type": "markdown",
   "metadata": {},
   "source": [
    "# Backend Code for Reading Log Database\n",
    "> CRUD Code for Reading Log Database\n",
    "  \n",
    "- toc: true"
   ]
  },
  {
   "attachments": {},
   "cell_type": "markdown",
   "metadata": {},
   "source": [
    "## Create Database"
   ]
  },
  {
   "cell_type": "code",
   "execution_count": 4,
   "metadata": {},
   "outputs": [],
   "source": [
    "import sqlite3\n",
    "\n",
    "def make_database():\n",
    "    # Connect to the database (will create it if it doesn't exist)\n",
    "    connection = sqlite3.connect('instance/readinglog.db')\n",
    "    cursor = connection.cursor()\n",
    "\n",
    "    # Create the professors table if it doesn't already exist\n",
    "    cursor.execute('''CREATE TABLE IF NOT EXISTS readinglog (\n",
    "                    username TEXT,\n",
    "                    name TEXT,\n",
    "                    date REAL,\n",
    "                    book TEXT,\n",
    "                    year REAL,\n",
    "                    rating REAL\n",
    "                )''')\n",
    "\n",
    "    # Commit changes and close the connection\n",
    "    connection.commit()\n",
    "    connection.close()\n",
    "\n"
   ]
  },
  {
   "cell_type": "code",
   "execution_count": 5,
   "metadata": {},
   "outputs": [],
   "source": [
    "make_database()"
   ]
  },
  {
   "attachments": {},
   "cell_type": "markdown",
   "metadata": {},
   "source": [
    "![](ghtop_images/sqlitecreate.png)"
   ]
  },
  {
   "cell_type": "code",
   "execution_count": 19,
   "metadata": {},
   "outputs": [
    {
     "name": "stdout",
     "output_type": "stream",
     "text": [
      "The Hunger Games has been added to the reading log.\n"
     ]
    }
   ],
   "source": [
    "import sqlite3\n",
    "\n",
    "def create():\n",
    "   database = 'instance/readinglog.db'\n",
    "   username = input(\"Enter your username: \")\n",
    "   name = input(\"Enter your name: \")\n",
    "   date = input(\"Enter the date (MM/DD/YYYY format): \")\n",
    "   book = input(\"Enter the name of the book you wish to log: \")\n",
    "   year = input(\"Enter the year in which you read the book (YYYY format): \")\n",
    "   rating = input(\"Enter your rating of the book (between 0 and 5, with 0 being the worst and 5 being the best): \")\n",
    "\n",
    "\n",
    "   # Connect to the database and create a cursor to execute SQL commands\n",
    "   connection = sqlite3.connect(database)\n",
    "   cursor = connection.cursor()\n",
    "\n",
    "\n",
    "   try:\n",
    "       # Execute SQL to insert record into db\n",
    "       cursor.execute(\"INSERT INTO readinglog (username, name, date, book, year, rating) VALUES (?, ?, ?, ?, ?, ?)\", (username, name, date, book, year, rating))\n",
    "       # Commit the changes\n",
    "       connection.commit()\n",
    "       print(f\"{book} has been added to the reading log.\")\n",
    "              \n",
    "   except sqlite3.Error as error:\n",
    "       print(\"Error while inserting record of book\", error)\n",
    "\n",
    "\n",
    "   # Close cursor and connection\n",
    "   cursor.close()\n",
    "   connection.close()\n",
    "\n",
    "create()"
   ]
  },
  {
   "attachments": {},
   "cell_type": "markdown",
   "metadata": {},
   "source": [
    "![](ghtop_images/sqliteaddata.png)"
   ]
  },
  {
   "attachments": {},
   "cell_type": "markdown",
   "metadata": {},
   "source": [
    "## Read Database"
   ]
  },
  {
   "cell_type": "code",
   "execution_count": 10,
   "metadata": {},
   "outputs": [
    {
     "name": "stdout",
     "output_type": "stream",
     "text": [
      "List of books:\n",
      "Reader Name: Shreya Sapkal\n",
      "Date Logged: 04/30/2023\n",
      "Book: The Hunger Games\n",
      "Year Read: 2023.0\n",
      "Book Rating: 5.0\n",
      "\n",
      "Reader Name: Shreya Sapkal\n",
      "Date Logged: 04/30/2023\n",
      "Book: Things Fall Apart\n",
      "Year Read: 2023.0\n",
      "Book Rating: 3.0\n",
      "\n",
      "Reader Name: Shreya Sapkal\n",
      "Date Logged: 04/30/2023\n",
      "Book: The Ballad of Songbirds and Snakes\n",
      "Year Read: 2021.0\n",
      "Book Rating: 3.0\n",
      "\n"
     ]
    }
   ],
   "source": [
    "import sqlite3\n",
    "\n",
    "def read():\n",
    "    try:\n",
    "        # Open a connection to the database and create a cursor\n",
    "        connection = sqlite3.connect('instance/readinglog.db')\n",
    "        cursor = connection.cursor()\n",
    "\n",
    "        # Fetch all records from the reading log table\n",
    "        cursor.execute(\"SELECT * FROM readinglog\")\n",
    "        rows = cursor.fetchall()\n",
    "\n",
    "        # If there are any records, print them\n",
    "        if len(rows) > 0:\n",
    "            print(\"List of books:\")\n",
    "            for row in rows:\n",
    "                print(f\"Reader Name: {row[1]}\\nDate Logged: {row[2]}\\nBook: {row[3]}\\nYear Read: {row[4]}\\nBook Rating: {row[5]}\\n\")\n",
    "        else:\n",
    "            print(\"There are no books in the list.\")\n",
    "\n",
    "    except sqlite3.Error as error:\n",
    "        print(\"Error while connecting to the database:\", error)\n",
    "\n",
    "    finally:\n",
    "        # Close the cursor and the connection to the database\n",
    "        cursor.close()\n",
    "        connection.close()\n",
    "\n",
    "read()"
   ]
  },
  {
   "attachments": {},
   "cell_type": "markdown",
   "metadata": {},
   "source": [
    "## Update Database"
   ]
  },
  {
   "cell_type": "code",
   "execution_count": 15,
   "metadata": {},
   "outputs": [
    {
     "name": "stdout",
     "output_type": "stream",
     "text": [
      "Enter the new information for the book:\n",
      "The Hunger Games's record has been updated.\n"
     ]
    }
   ],
   "source": [
    "import sqlite3\n",
    "\n",
    "def update():\n",
    "    database = 'instance/readinglog.db'\n",
    "    connection = sqlite3.connect(database)\n",
    "    cursor = connection.cursor()\n",
    "    \n",
    "    try:\n",
    "        # Get the professor's name to update\n",
    "        name = input(\"Enter the name of the book to update: \")\n",
    "        \n",
    "        # Retrieve the current record from the database\n",
    "        cursor.execute(\"SELECT * FROM readinglog WHERE book=?\", (name,))\n",
    "        record = cursor.fetchone()\n",
    "        \n",
    "        # If the book is found, update the record\n",
    "        if record:\n",
    "            print(\"Enter the new information for the book:\")\n",
    "            date = input(f\"Old date logged: {record[2]}\\nNew date logged: \")\n",
    "            book = input(f\"Current book: {record[3]}\\nNew book: \")\n",
    "            year = input(f\"Current year read: {record[4]}\\nNew year read: \")\n",
    "            rating = input(f\"Current rating: {record[5]}\\nNew rating: \")\n",
    "            \n",
    "            # Execute SQL to update the record\n",
    "            cursor.execute(\"UPDATE readinglog SET date=?, book=?, year=?, rating=? WHERE book=?\", (date, book, year, rating, name))\n",
    "            connection.commit()\n",
    "            \n",
    "            print(f\"{name}'s record has been updated.\")\n",
    "        \n",
    "        # If the book is not found, notify the user\n",
    "        else:\n",
    "            print(f\"No record found for {name}.\")\n",
    "    \n",
    "    except sqlite3.Error as error:\n",
    "        print(\"Error while updating record\", error)\n",
    "    \n",
    "    # Close cursor and connection\n",
    "    cursor.close()\n",
    "    connection.close()\n",
    "update ()"
   ]
  },
  {
   "attachments": {},
   "cell_type": "markdown",
   "metadata": {},
   "source": [
    "![](ghtop_images/sqliteupdate.png)"
   ]
  },
  {
   "attachments": {},
   "cell_type": "markdown",
   "metadata": {},
   "source": [
    "## Delete Database"
   ]
  },
  {
   "cell_type": "code",
   "execution_count": 18,
   "metadata": {},
   "outputs": [
    {
     "name": "stdout",
     "output_type": "stream",
     "text": [
      "The Hunger Games: Catching Fire has been deleted from your reading log.\n"
     ]
    }
   ],
   "source": [
    "import sqlite3\n",
    "\n",
    "\n",
    "def delete():\n",
    "    # Connect to the database and create a cursor\n",
    "    connection = sqlite3.connect('instance/readinglog.db')\n",
    "    cursor = connection.cursor()\n",
    "\n",
    "    # Prompt the user for the name of the book to delete\n",
    "    book = input(\"Enter the name of the book you want to delete: \")\n",
    "\n",
    "    # Use a SQL query to find the book with the given name\n",
    "    cursor.execute(\"SELECT * FROM readinglog WHERE book=?\", (book,))\n",
    "    row = cursor.fetchone()\n",
    "\n",
    "    # If the book exists, confirm deletion and delete the record\n",
    "    if row:\n",
    "        confirm = input(f\"Are you sure you want to delete {book}? (y/n): \")\n",
    "        if confirm.lower() == 'y':\n",
    "            cursor.execute(\"DELETE FROM readinglog WHERE book=?\", (book,))\n",
    "            connection.commit()\n",
    "            print(f\"{book} has been deleted from your reading log.\")\n",
    "    else:\n",
    "        print(f\"{book} not found in the list of books.\")\n",
    "\n",
    "    # Close the cursor and the connection to the database\n",
    "    cursor.close()\n",
    "    connection.close()\n",
    "\n",
    "delete()"
   ]
  },
  {
   "attachments": {},
   "cell_type": "markdown",
   "metadata": {},
   "source": [
    "![](ghtop_images/sqlitedelete.png)"
   ]
  }
 ],
 "metadata": {
  "kernelspec": {
   "display_name": "Python 3",
   "language": "python",
   "name": "python3"
  },
  "language_info": {
   "codemirror_mode": {
    "name": "ipython",
    "version": 3
   },
   "file_extension": ".py",
   "mimetype": "text/x-python",
   "name": "python",
   "nbconvert_exporter": "python",
   "pygments_lexer": "ipython3",
   "version": "3.10.9"
  },
  "orig_nbformat": 4
 },
 "nbformat": 4,
 "nbformat_minor": 2
}
